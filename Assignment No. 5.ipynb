{
 "cells": [
  {
   "cell_type": "code",
   "execution_count": 1,
   "metadata": {},
   "outputs": [
    {
     "name": "stdout",
     "output_type": "stream",
     "text": [
      "Input a number to compute the factorial : 3\n",
      "6\n"
     ]
    }
   ],
   "source": [
    "# Question:1 Write a Python function to calculate the factorial of a number (a non-negative integer). The function accepts the number as an argument.\n",
    "\n",
    "def factorial(n):\n",
    "    if n == 0:\n",
    "        return 1\n",
    "    else:\n",
    "        return n * factorial(n-1)\n",
    "n=int(input(\"Please enter a number to calculate the factorial : \"))\n",
    "print(factorial(n))"
   ]
  },
  {
   "cell_type": "code",
   "execution_count": 4,
   "metadata": {},
   "outputs": [
    {
     "name": "stdout",
     "output_type": "stream",
     "text": [
      "Please enter here: I am learning Python from Saylani Institute.\n",
      "Lower case is :  33\n",
      "Upper case is :  4\n"
     ]
    }
   ],
   "source": [
    "# Question:2 Write a Python function that accepts a string and calculate the number of upper case letters and lower case letters.\n",
    "\n",
    "s = input(\"Please enter here: \")\n",
    "def stringtest(s):\n",
    "  d = {\"LOWER_CASE\" : 0, \"UPPER_CASE\" : 0}\n",
    "  for c in s:\n",
    "    if c.islower():\n",
    "      d[\"LOWER_CASE\"] += 1\n",
    "    elif c.isupper():\n",
    "      d[\"UPPER_CASE\"] += 1\n",
    "    else: \n",
    "      pass\n",
    "\n",
    "  print (\"Lower case is : \", d[\"LOWER_CASE\"])\n",
    "  print (\"Upper case is : \", d[\"UPPER_CASE\"])\n",
    "#stringtest('The quick Brown Fox')\n",
    "stringtest(s)"
   ]
  },
  {
   "cell_type": "code",
   "execution_count": 1,
   "metadata": {},
   "outputs": [
    {
     "name": "stdout",
     "output_type": "stream",
     "text": [
      "[2, 4, 6, 8, 10, 12, 14, 16, 18]\n"
     ]
    }
   ],
   "source": [
    "# Question:3 Write a Python function to print the even numbers from a given list.\n",
    "def is_even_numb(l):\n",
    "    evnum = []\n",
    "    for n in l:\n",
    "        if n % 2 == 0:\n",
    "            evnum.append(n)\n",
    "    return evnum\n",
    "print(is_even_numb([1, 2, 3, 4, 5, 6, 7, 8, 9, 10, 11, 12, 13, 14, 15, 16, 17, 18]))"
   ]
  },
  {
   "cell_type": "code",
   "execution_count": 4,
   "metadata": {},
   "outputs": [
    {
     "name": "stdout",
     "output_type": "stream",
     "text": [
      "The passed string is a palindrome.\n"
     ]
    }
   ],
   "source": [
    "# Question:4 Write a Python function that checks whether a passed string is palindrome or not. Note: A palindrome is a word, phrase, or sequence that reads the same backward as forward, e.g., madam\n",
    "\n",
    "pass_str = 'madam'\n",
    "\n",
    "# change the case type for caseless comparison\n",
    "pass_str = pass_str.casefold()\n",
    "\n",
    "# reverse the string\n",
    "rev_str = reversed(pass_str)\n",
    "\n",
    "# check if the string is equal to its reverse\n",
    "if list(pass_str) == list(rev_str):\n",
    "   print(\"The passed string is a palindrome.\")\n",
    "else:\n",
    "   print(\"The passed string is not a palindrome.\")"
   ]
  },
  {
   "cell_type": "code",
   "execution_count": 6,
   "metadata": {},
   "outputs": [
    {
     "name": "stdout",
     "output_type": "stream",
     "text": [
      "Enter any number: 66\n",
      "66 is not a prime number\n"
     ]
    }
   ],
   "source": [
    "# Question:5 Write a Python function that takes a number as a parameter and check the number is prime or not.\n",
    "\n",
    "# taking input from user\n",
    "number = int(input(\"Enter any number: \"))\n",
    "\n",
    "# prime number is always greater than 1\n",
    "if number > 1:\n",
    "    for i in range(2, number):\n",
    "        if (number % i) == 0:\n",
    "            print(number, \"is not a prime number\")\n",
    "            break\n",
    "    else:\n",
    "        print(number, \"is a prime number\")\n",
    "\n",
    "# if the entered number is less than or equal to 1\n",
    "# then it is not prime number\n",
    "else:\n",
    "    print(number, \"is not a prime number\")"
   ]
  },
  {
   "cell_type": "code",
   "execution_count": 1,
   "metadata": {},
   "outputs": [
    {
     "name": "stdout",
     "output_type": "stream",
     "text": [
      "\n",
      "Enter the item you bought from market \n",
      "If you leave enter'quit': onion\n",
      "\n",
      "Enter the item you bought from market \n",
      "If you leave enter'quit': banana\n",
      "\n",
      "Enter the item you bought from market \n",
      "If you leave enter'quit': quit\n",
      "\n",
      "--------- Shopping List --------\n",
      "You bought:  onion\n",
      "You bought:  banana\n"
     ]
    }
   ],
   "source": [
    "# Question: 6 Suppose a customer is shopping in a market and you need to print all the items which user bought from market. Write a function which accepts the multiple arguments of user shopping list and print all the items which user bought from market.\n",
    "\n",
    "def customer_shopping(shopping_list):\n",
    "    print(\"\\n--------- Shopping List --------\")    \n",
    "    for element in shopping_list:\n",
    "        print(\"You bought: \",element)\n",
    "\n",
    "shopping_list = []\n",
    "\n",
    "while True:\n",
    "    items = input(\"\\nEnter the item you bought from market \\nIf you leave enter'quit': \")\n",
    "    if items == 'quit':\n",
    "        break\n",
    "    shopping_list.append(items)\n",
    "\n",
    "customer_shopping(shopping_list)\n"
   ]
  },
  {
   "cell_type": "code",
   "execution_count": null,
   "metadata": {},
   "outputs": [],
   "source": []
  }
 ],
 "metadata": {
  "kernelspec": {
   "display_name": "Python 3",
   "language": "python",
   "name": "python3"
  },
  "language_info": {
   "codemirror_mode": {
    "name": "ipython",
    "version": 3
   },
   "file_extension": ".py",
   "mimetype": "text/x-python",
   "name": "python",
   "nbconvert_exporter": "python",
   "pygments_lexer": "ipython3",
   "version": "3.7.4"
  }
 },
 "nbformat": 4,
 "nbformat_minor": 2
}
