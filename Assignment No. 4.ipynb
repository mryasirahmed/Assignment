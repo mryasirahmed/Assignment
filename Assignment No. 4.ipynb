{
 "cells": [
  {
   "cell_type": "code",
   "execution_count": 3,
   "metadata": {},
   "outputs": [
    {
     "name": "stdout",
     "output_type": "stream",
     "text": [
      "Yasir\n",
      "Ahmed\n",
      "30\n",
      "Karachi\n"
     ]
    }
   ],
   "source": [
    "#Question1:\n",
    "#Use a dictionary to store information about a person you know. Store their first name, last name, age, and the city in which they live. You should have keys such as first_name, last_name, age, and city. Print each piece of information stored in your dictionary. Add a new key value pair about qualification then update the qualification value to high academic level then delete it.\n",
    "\n",
    "person = {\n",
    "    'first_name': 'Yasir',\n",
    "    'last_name': 'Ahmed',\n",
    "    'age': 30,\n",
    "    'city': 'Karachi',\n",
    "    }\n",
    "\n",
    "print(person['first_name'])\n",
    "print(person['last_name'])\n",
    "print(person['age'])\n",
    "print(person['city'])"
   ]
  },
  {
   "cell_type": "code",
   "execution_count": 6,
   "metadata": {},
   "outputs": [
    {
     "name": "stdout",
     "output_type": "stream",
     "text": [
      "MBA Finance\n"
     ]
    }
   ],
   "source": [
    "# Adding a new key value pair about qualification \n",
    "person['qualification'] = 'MBA Finance'\n",
    "print(person['qualification'])"
   ]
  },
  {
   "cell_type": "code",
   "execution_count": 14,
   "metadata": {},
   "outputs": [
    {
     "name": "stdout",
     "output_type": "stream",
     "text": [
      "Phd\n"
     ]
    }
   ],
   "source": [
    "# updating the qualification value to high academic level\n",
    "person['qualification'] = 'Phd'\n",
    "print(person['qualification'])"
   ]
  },
  {
   "cell_type": "code",
   "execution_count": 15,
   "metadata": {},
   "outputs": [],
   "source": [
    "# Deleting the qualification value to high academic level\n",
    "del person['qualification']"
   ]
  },
  {
   "cell_type": "code",
   "execution_count": 1,
   "metadata": {},
   "outputs": [
    {
     "name": "stdout",
     "output_type": "stream",
     "text": [
      "\n",
      "Karachi is in Pakistan.\n",
      "  It has a population of about 15000000.\n",
      "  Fact:  It Is The Sixth Largest City In The World By City Populationkarachi Is Vital To Pakistans Economy, Contributing 42 Per Cent Of Gdp , 70 Per Cent Of Income Tax Revenue And 62 Per Cent Of Sales Tax Revenue.\n",
      "\n",
      "Newyork is in United States Of America.\n",
      "  It has a population of about 8623000.\n",
      "  Fact:  Times Square Is Named After The New York Times.\n",
      "\n",
      "London is in United Kingdom.\n",
      "  It has a population of about 8900000.\n",
      "  Fact:  London Has Over 170 Museums.\n"
     ]
    }
   ],
   "source": [
    "#Question2:\n",
    "#Make a dictionary called cities. Use the names of three cities as keys in your dictionary. Create a dictionary of information about each city and include the country that the city is in, its approximate population, and one fact about that city. The keys for each city’s dictionary should be something like country, population, and fact. Print the name of each city and all of the information you have stored about it.\n",
    "\n",
    "cities = {\n",
    "    'Karachi': {\n",
    "        'country': 'Pakistan',\n",
    "        'population': 15000000,\n",
    "        'Fact': 'It is the Sixth largest city in the world by city populationKarachi is vital to Pakistans economy, contributing 42 per cent of GDP , 70 per cent of income tax revenue and 62 per cent of sales tax revenue.',\n",
    "        },\n",
    "    'NewYork': {\n",
    "        'country': 'United States of America',\n",
    "        'population': 8623000,\n",
    "        'Fact': 'Times Square is named after the New York Times.',\n",
    "        },\n",
    "    'London': {\n",
    "        'country': 'United Kingdom',\n",
    "        'population': 8900000,\n",
    "        'Fact': 'London has over 170 Museums.',\n",
    "        }\n",
    "    }\n",
    "\n",
    "for city, city_info in cities.items():\n",
    "    country = city_info['country'].title()\n",
    "    population = city_info['population']\n",
    "    Fact = city_info['Fact'].title()\n",
    "\n",
    "    print(\"\\n\" + city.title() + \" is in \" + country + \".\")\n",
    "    print(\"  It has a population of about \" + str(population) + \".\")\n",
    "    print(\"  Fact:  \" + Fact)"
   ]
  },
  {
   "cell_type": "code",
   "execution_count": 2,
   "metadata": {},
   "outputs": [
    {
     "name": "stdout",
     "output_type": "stream",
     "text": [
      "Please enter your age in years?\n",
      "Enter 'exit' when you are finished. 2\n",
      "  Ticket price for you is free!\n",
      "Please enter your age in years?\n",
      "Enter 'exit' when you are finished. 15\n",
      "  Ticket price for you is $15.\n",
      "Please enter your age in years?\n",
      "Enter 'exit' when you are finished. 10\n",
      "  Ticket price for you is $10.\n",
      "Please enter your age in years?\n",
      "Enter 'exit' when you are finished. \n"
     ]
    },
    {
     "ename": "ValueError",
     "evalue": "invalid literal for int() with base 10: ''",
     "output_type": "error",
     "traceback": [
      "\u001b[1;31m---------------------------------------------------------------------------\u001b[0m",
      "\u001b[1;31mValueError\u001b[0m                                Traceback (most recent call last)",
      "\u001b[1;32m<ipython-input-2-2c2a29da1e1d>\u001b[0m in \u001b[0;36m<module>\u001b[1;34m\u001b[0m\n\u001b[0;32m      9\u001b[0m     \u001b[1;32mif\u001b[0m \u001b[0mage\u001b[0m \u001b[1;33m==\u001b[0m \u001b[1;34m'exit'\u001b[0m\u001b[1;33m:\u001b[0m\u001b[1;33m\u001b[0m\u001b[1;33m\u001b[0m\u001b[0m\n\u001b[0;32m     10\u001b[0m         \u001b[1;32mbreak\u001b[0m\u001b[1;33m\u001b[0m\u001b[1;33m\u001b[0m\u001b[0m\n\u001b[1;32m---> 11\u001b[1;33m     \u001b[0mage\u001b[0m \u001b[1;33m=\u001b[0m \u001b[0mint\u001b[0m\u001b[1;33m(\u001b[0m\u001b[0mage\u001b[0m\u001b[1;33m)\u001b[0m\u001b[1;33m\u001b[0m\u001b[1;33m\u001b[0m\u001b[0m\n\u001b[0m\u001b[0;32m     12\u001b[0m \u001b[1;33m\u001b[0m\u001b[0m\n\u001b[0;32m     13\u001b[0m     \u001b[1;32mif\u001b[0m \u001b[0mage\u001b[0m \u001b[1;33m<\u001b[0m \u001b[1;36m3\u001b[0m\u001b[1;33m:\u001b[0m\u001b[1;33m\u001b[0m\u001b[1;33m\u001b[0m\u001b[0m\n",
      "\u001b[1;31mValueError\u001b[0m: invalid literal for int() with base 10: ''"
     ]
    }
   ],
   "source": [
    "#Question3:\n",
    "#A movie theater charges different ticket prices depending on a person’s age. If a person is under the age of 3, the ticket is free; if they are between 3 and 12, the ticket is $10; and if they are over age 12, the ticket is $15. Write a loop in which you ask users their age, and then tell them the cost of their movie ticket.\n",
    "\n",
    "prompt = \"Please enter your age in years?\"\n",
    "prompt += \"\\nEnter 'exit' when you are finished. \"\n",
    "\n",
    "while True:\n",
    "    age = input(prompt)\n",
    "    if age == 'exit':\n",
    "        break\n",
    "    age = int(age)\n",
    "\n",
    "    if age < 3:\n",
    "        print(\"  Ticket price for you is free!\")\n",
    "    elif age < 13:\n",
    "        print(\"  Ticket price for you is $10.\")\n",
    "    else:\n",
    "        print(\"  Ticket price for you is $15.\")"
   ]
  },
  {
   "cell_type": "code",
   "execution_count": 1,
   "metadata": {},
   "outputs": [
    {
     "name": "stdout",
     "output_type": "stream",
     "text": [
      "Alice in Wonderland is one of my favorite books.\n"
     ]
    }
   ],
   "source": [
    "# Question4:\n",
    "# Write a function called favorite_book() that accepts one parameter, title. The function should print a message, such as One of my favorite books is Alice in Wonderland. Call the function, making sure to include a book title as an argument in the function call.\n",
    "\n",
    "def favorite_book(title):\n",
    "    \"\"\"Display a message about someone's favorite book.\"\"\"\n",
    "    print(title + \" is one of my favorite books.\")\n",
    "\n",
    "favorite_book('Alice in Wonderland')"
   ]
  },
  {
   "cell_type": "code",
   "execution_count": null,
   "metadata": {},
   "outputs": [
    {
     "name": "stdout",
     "output_type": "stream",
     "text": [
      "Guess my target number that is between 1 and 30 (inclusive).\n",
      "\n",
      "Your guess(1): 5\n",
      "  Too low.\n",
      "Your guess(2): 6\n",
      "  Too low.\n",
      "Your guess(3): 7\n",
      "  Too low.\n",
      "Your guess(4): 76\n",
      "  Out of range!\n",
      "Your guess(5): 87\n",
      "  Out of range!\n",
      "Your guess(6): 6\n",
      "  Too low.\n",
      "Your guess(7): 78\n",
      "  Out of range!\n",
      "Your guess(8): 98\n",
      "  Out of range!\n",
      "Your guess(9): 89\n",
      "  Out of range!\n",
      "Your guess(10): 9009\n",
      "  Out of range!\n",
      "Your guess(11): 96765\n",
      "  Out of range!\n",
      "Your guess(12): 453\n",
      "  Out of range!\n",
      "Your guess(13): 24\n",
      "  Too high.\n",
      "Your guess(14): 343\n",
      "  Out of range!\n",
      "Your guess(15): 56\n",
      "  Out of range!\n",
      "Your guess(16): 4\n",
      "  Too low.\n",
      "Your guess(17): 3\n",
      "  Too low.\n"
     ]
    }
   ],
   "source": [
    "#Question5:\n",
    "#Guess the number game\n",
    "#Write a program which randomly generate a number between 1 to 30 and ask the user in input field to guess the correct number. Give three chances to user guess the number and also give hint to user if hidden number is greater or smaller than the number he given to input field.\n",
    "\n",
    "import random\n",
    " \n",
    "inclusive_range = (1, 30)\n",
    " \n",
    "print(\"Guess my target number that is between %i and %i (inclusive).\\n\"\n",
    "      % inclusive_range)\n",
    "target = random.randint(*inclusive_range)\n",
    "answer, i = 6, 0\n",
    "while answer != target:\n",
    "    i += 1\n",
    "    txt = input(\"Your guess(%i): \" % i)\n",
    "    try:\n",
    "        answer = int(txt)\n",
    "    except ValueError:\n",
    "        print(\"  Please re-nter, I don't understand your input of '%s' ?\" % txt)\n",
    "        continue\n",
    "    if answer < inclusive_range[0] or answer > inclusive_range[1]:\n",
    "        print(\"  Out of range!\")\n",
    "        continue\n",
    "    if answer == target:\n",
    "        print(\"  Answer is correct!!\")\n",
    "        break\n",
    "    if answer < target: print(\"  Too low.\")\n",
    "    if answer > target: print(\"  Too high.\")\n",
    " \n",
    "print(\"\\nThanks for playing.\")"
   ]
  },
  {
   "cell_type": "code",
   "execution_count": null,
   "metadata": {},
   "outputs": [],
   "source": []
  }
 ],
 "metadata": {
  "kernelspec": {
   "display_name": "Python 3",
   "language": "python",
   "name": "python3"
  },
  "language_info": {
   "codemirror_mode": {
    "name": "ipython",
    "version": 3
   },
   "file_extension": ".py",
   "mimetype": "text/x-python",
   "name": "python",
   "nbconvert_exporter": "python",
   "pygments_lexer": "ipython3",
   "version": "3.7.4"
  }
 },
 "nbformat": 4,
 "nbformat_minor": 2
}
