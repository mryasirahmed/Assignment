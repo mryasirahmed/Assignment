{
 "cells": [
  {
   "cell_type": "code",
   "execution_count": 1,
   "metadata": {},
   "outputs": [],
   "source": [
    "# Question 1: Define Object Oriented Programming Language? \n",
    "# Object-oriented programming (OOP) is a programming language model in which programs are organized around data, or objects, rather than functions and logic. ... Each distinct logic sequence is known as a method and objects can communicate with well-defined interfaces called messages.\n",
    "\n",
    "\n",
    "# Question 2: List down the Benefits of OOP? \n",
    "#    1. It provides a clear modular structure for programs which makes it good for defining abstract datatypes in which implementation details are hidden\n",
    "#    2. Objects can also be reused within an across applications. The reuse of software also lowers the cost of development. More effort is put into the object-oriented analysis and design, which lowers the overall cost of development.\n",
    "#    3. It makes software easier to maintain. Since the design is modular, part of the system can be updated in case of issues without a need to make large-scale changes\n",
    "#    4. Reuse also enables faster development. Object-oriented programming languages come with rich libraries of objects, and code developed during projects is also reusable in future projects.\n",
    "#    5. It provides a good framework for code libraries where the supplied software components can be easily adapted and modified by the programmer. This is particularly useful for developing graphical user interfaces.\n",
    "#    6. Better Productivity as OOP techniques enforce rules on a programmer that, in the long run, help her get more work done; finished programs work better, have more features and are easier to read and maintain. OOP programmers take new and existing software objects and \"stitch\" them together to make new programs. Because object libraries contain many useful functions, software developers don't have to reinvent the wheel as often; more of their time goes into making the new program.\n",
    "\n",
    "\n",
    "# Question 3: \n",
    "# Differentiate between function and method?\n",
    "\n",
    "# A function is a piece of code that is called by name. It can be passed data to operate on (i.e. the parameters) and can optionally return data (the return value). All data that is passed to a function is explicitly passed.\n",
    "# A method is a piece of code that is called by a name that is associated with an object. In most respects it is identical to a function except for two key differences:\n",
    "#   1. A method is implicitly passed the object on which it was called.\n",
    "#   2. A method is able to operate on data that is contained within the class (remembering that an object is an instance of a class - the class is the definition, the object is an instance of that data).\n",
    "\n",
    "# Question 4: \n",
    "# Define the following terms: \n",
    "\n",
    "# 1. Class :\n",
    "# Class is a set or category of things having some property or attribute in common and differentiated from others by kind, type, or quality.\n",
    "# In technical terms we can say that class is a blue print for individual objects with exact behaviour.\n",
    "\n",
    "# 2. Object :\n",
    "# Object is one of instances of the class. which can perform the functionalities which are defined in the class.\n",
    "\n",
    "# 3. Attribute\n",
    "# In Python, every object has some default attributes and methods in addition to user-defined attributes. To see all the attributes and methods of an object, the built-in dir() function can be used.\n",
    "\n",
    "# 4. Behavior \n",
    "# Behaviour provides a language suitable for Behaviour Driven Development (BDD), as opposed to post-coding unit testing. It operates as a facade over Python’s unit testing framework.\n",
    "# Behavior-driven development using Python's 'behave' framework can help your team achieve better collaboration and test automation."
   ]
  },
  {
   "cell_type": "code",
   "execution_count": 32,
   "metadata": {},
   "outputs": [
    {
     "name": "stdout",
     "output_type": "stream",
     "text": [
      "Model is A4\n",
      "color is blue\n",
      "Name is Audi\n",
      "Speed is 1000cc\n",
      "Type is Automatic\n",
      "Model is 488\n",
      "color is green\n",
      "Name is ferrari\n",
      "Speed is 2000cc\n",
      "Type is Automatic\n"
     ]
    }
   ],
   "source": [
    "# Question 5: \n",
    "# Write a code in python in which create a class named it Car which have 5 attributes such like (model, color and name etc.) and 3 methods. And create 5 object instance from that class.\n",
    "\n",
    "class car(): \n",
    "      \n",
    "    # init method or constructor \n",
    "    def __init__(self, model, color, name, speed_limit, type): \n",
    "        self.model = model \n",
    "        self.color = color \n",
    "        self.name = name\n",
    "        self.speed_limit = speed_limit\n",
    "        self.type = type\n",
    "          \n",
    "    def show(self): \n",
    "        print(\"Model is\", self.model ) \n",
    "        print(\"color is\", self.color ) \n",
    "        print(\"Name is\", self.name) \n",
    "        print(\"Speed is\", self.speed_limit) \n",
    "        print(\"Type is\", self.type) \n",
    "    \n",
    "          \n",
    "# both objects have different self which  \n",
    "# contain their attributes \n",
    "audi = car(\"A4\", \"blue\", \"Audi\", \"1000cc\", \"Automatic\") \n",
    "ferrari = car(\"488\", \"green\", \"ferrari\", \"2000cc\", \"Automatic\") \n",
    "  \n",
    "audi.show()     # same output as car.show(audi) \n",
    "ferrari.show()  # same output as car.show(ferrari) \n",
    "  \n",
    "# Behind the scene, in every instance method  \n",
    "# call, python sends the instances also with \n",
    "# that method call like car.show(audi) "
   ]
  },
  {
   "cell_type": "code",
   "execution_count": null,
   "metadata": {},
   "outputs": [],
   "source": []
  }
 ],
 "metadata": {
  "kernelspec": {
   "display_name": "Python 3",
   "language": "python",
   "name": "python3"
  },
  "language_info": {
   "codemirror_mode": {
    "name": "ipython",
    "version": 3
   },
   "file_extension": ".py",
   "mimetype": "text/x-python",
   "name": "python",
   "nbconvert_exporter": "python",
   "pygments_lexer": "ipython3",
   "version": "3.7.4"
  }
 },
 "nbformat": 4,
 "nbformat_minor": 2
}
