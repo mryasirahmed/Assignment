{
 "cells": [
  {
   "cell_type": "code",
   "execution_count": 20,
   "metadata": {},
   "outputs": [
    {
     "name": "stdout",
     "output_type": "stream",
     "text": [
      "[10, 20, 30, 40, 92, 92, 99, 110, 110, 200, 786, 786, 901]\n",
      "[92, 110, 786]\n"
     ]
    }
   ],
   "source": [
    "    my_list = [110,20,92,10,110,30,40,786,92,786,99,901,200]\n",
    "    my_list.sort()\n",
    "    print(my_list)\n",
    "    new_list = sorted(set(my_list))\n",
    "    dup_list =[]\n",
    "    for i in range(len(new_list)):\n",
    "        if (my_list.count(new_list[i]) > 1 ):\n",
    "            dup_list.append(new_list[i])\n",
    "print(dup_list)"
   ]
  },
  {
   "cell_type": "code",
   "execution_count": null,
   "metadata": {},
   "outputs": [],
   "source": []
  }
 ],
 "metadata": {
  "kernelspec": {
   "display_name": "Python 3",
   "language": "python",
   "name": "python3"
  },
  "language_info": {
   "codemirror_mode": {
    "name": "ipython",
    "version": 3
   },
   "file_extension": ".py",
   "mimetype": "text/x-python",
   "name": "python",
   "nbconvert_exporter": "python",
   "pygments_lexer": "ipython3",
   "version": "3.7.4"
  }
 },
 "nbformat": 4,
 "nbformat_minor": 2
}
