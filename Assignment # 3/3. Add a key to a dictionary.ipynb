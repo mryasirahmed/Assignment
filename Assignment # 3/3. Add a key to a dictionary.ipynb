{
 "cells": [
  {
   "cell_type": "code",
   "execution_count": 3,
   "metadata": {},
   "outputs": [
    {
     "name": "stdout",
     "output_type": "stream",
     "text": [
      "Current Dict is:  {'key1': 'Yasir', 'key2': 'Ahmed'}\n",
      "Updated Dict is:  {'key1': 'Yasir', 'key2': 'Ahmed', 'key3': 'is'}\n",
      "{'key1': 'Yasir', 'key2': 'Ahmed', 'key3': 'is', 'key4': 'learning', 'key5': 'python'}\n",
      "{'key1': 'Yasir', 'key2': 'Ahmed', 'key3': 'is', 'key4': 'learning', 'key5': 'python', 'newkey1': 'language'}\n"
     ]
    }
   ],
   "source": [
    "dict = {'key1':'Yasir', 'key2':'Ahmed'} \n",
    "print(\"Current Dict is: \", dict) \n",
    "\n",
    "# adding key3 \n",
    "dict.update({'key3':'is'}) \n",
    "print(\"Updated Dict is: \", dict) \n",
    "\n",
    "# adding dict1 (key4 and key5) to dict \n",
    "dict1 = {'key4':'learning', 'key5':'python'} \n",
    "dict.update(dict1) \n",
    "print(dict) \n",
    "\n",
    "# by assigning \n",
    "dict.update(newkey1 ='language') \n",
    "print(dict) "
   ]
  },
  {
   "cell_type": "code",
   "execution_count": null,
   "metadata": {},
   "outputs": [],
   "source": []
  }
 ],
 "metadata": {
  "kernelspec": {
   "display_name": "Python 3",
   "language": "python",
   "name": "python3"
  },
  "language_info": {
   "codemirror_mode": {
    "name": "ipython",
    "version": 3
   },
   "file_extension": ".py",
   "mimetype": "text/x-python",
   "name": "python",
   "nbconvert_exporter": "python",
   "pygments_lexer": "ipython3",
   "version": "3.7.4"
  }
 },
 "nbformat": 4,
 "nbformat_minor": 2
}
