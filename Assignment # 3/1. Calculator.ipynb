{
 "cells": [
  {
   "cell_type": "code",
   "execution_count": 6,
   "metadata": {},
   "outputs": [
    {
     "name": "stdout",
     "output_type": "stream",
     "text": [
      "Please select operation -\n",
      "1. Add\n",
      "2. Subtract\n",
      "3. Multiply\n",
      "4. Divide\n",
      "\n",
      "Select operations from +, -, *, / :+\n",
      "Enter first number: 4\n",
      "Enter second number: 5\n",
      "4 + 5 = 9\n"
     ]
    }
   ],
   "source": [
    "# Function to add two numbers \n",
    "def add(num1, num2): \n",
    "\treturn num1 + num2 \n",
    "\n",
    "# Function to subtract two numbers \n",
    "def subtract(num1, num2): \n",
    "\treturn num1 - num2 \n",
    "\n",
    "# Function to multiply two numbers \n",
    "def multiply(num1, num2): \n",
    "\treturn num1 * num2 \n",
    "\n",
    "# Function to divide two numbers \n",
    "def divide(num1, num2): \n",
    "\treturn num1 / num2 \n",
    "\n",
    "print(\"Please select operation -\\n\"\n",
    "\t\t\"1. Add\\n\"\n",
    "\t\t\"2. Subtract\\n\" \n",
    "\t\t\"3. Multiply\\n\" \n",
    "\t\t\"4. Divide\\n\") \n",
    "\n",
    "\n",
    "# Take input from the user \n",
    "select = input(\"Select operations from +, -, *, / :\") \n",
    "\n",
    "number_1 = int(input(\"Enter first number: \")) \n",
    "number_2 = int(input(\"Enter second number: \")) \n",
    "\n",
    "if select == '+': \n",
    "\tprint(number_1, \"+\", number_2, \"=\", \n",
    "\t\t\t\t\tadd(number_1, number_2)) \n",
    "\n",
    "elif select == '-': \n",
    "\tprint(number_1, \"-\", number_2, \"=\", \n",
    "\t\t\t\t\tsubtract(number_1, number_2)) \n",
    "\n",
    "elif select == '*': \n",
    "\tprint(number_1, \"*\", number_2, \"=\", \n",
    "\t\t\t\t\tmultiply(number_1, number_2)) \n",
    "\n",
    "elif select == '/': \n",
    "\tprint(number_1, \"/\", number_2, \"=\", \n",
    "\t\t\t\t\tdivide(number_1, number_2)) \n",
    "else: \n",
    "\tprint(\"Invalid input\")"
   ]
  },
  {
   "cell_type": "code",
   "execution_count": null,
   "metadata": {},
   "outputs": [],
   "source": []
  }
 ],
 "metadata": {
  "kernelspec": {
   "display_name": "Python 3",
   "language": "python",
   "name": "python3"
  },
  "language_info": {
   "codemirror_mode": {
    "name": "ipython",
    "version": 3
   },
   "file_extension": ".py",
   "mimetype": "text/x-python",
   "name": "python",
   "nbconvert_exporter": "python",
   "pygments_lexer": "ipython3",
   "version": "3.7.4"
  }
 },
 "nbformat": 4,
 "nbformat_minor": 2
}
