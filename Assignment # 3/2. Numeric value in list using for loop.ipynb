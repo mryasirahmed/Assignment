{
 "cells": [
  {
   "cell_type": "code",
   "execution_count": 19,
   "metadata": {},
   "outputs": [
    {
     "name": "stdout",
     "output_type": "stream",
     "text": [
      "Checking if 786 exists in list ( using loop ) : \n",
      "Number Exists in the list\n"
     ]
    }
   ],
   "source": [
    "# Python code to demonstrate \n",
    "# checking of element existence \n",
    "# using loops and in \n",
    "\n",
    "# Initializing list \n",
    "test_list = [ 110, 92, 786, 5, 12, 14, 313 ] \n",
    "\n",
    "print(\"Checking if 786 exists in list ( using loop ) : \") \n",
    "\n",
    "# Checking if 786 exists in list \n",
    "# using loop \n",
    "for i in test_list: \n",
    "    if(i == 786) : \n",
    "        print (\"Number Exists in the list\")"
   ]
  },
  {
   "cell_type": "code",
   "execution_count": null,
   "metadata": {},
   "outputs": [],
   "source": []
  }
 ],
 "metadata": {
  "kernelspec": {
   "display_name": "Python 3",
   "language": "python",
   "name": "python3"
  },
  "language_info": {
   "codemirror_mode": {
    "name": "ipython",
    "version": 3
   },
   "file_extension": ".py",
   "mimetype": "text/x-python",
   "name": "python",
   "nbconvert_exporter": "python",
   "pygments_lexer": "ipython3",
   "version": "3.7.4"
  }
 },
 "nbformat": 4,
 "nbformat_minor": 2
}
