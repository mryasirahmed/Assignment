{
 "cells": [
  {
   "cell_type": "code",
   "execution_count": 4,
   "metadata": {},
   "outputs": [
    {
     "name": "stdout",
     "output_type": "stream",
     "text": [
      "Enter marks of the first subject: 55\n",
      "Enter marks of the second subject: 65\n",
      "Enter marks of the third subject: 66\n",
      "Enter marks of the fourth subject: 66\n",
      "Enter marks of the fifth subject: 56\n",
      "Grade: B\n"
     ]
    }
   ],
   "source": [
    "s1=int(input(\"Enter marks of the first subject: \"))\n",
    "s2=int(input(\"Enter marks of the second subject: \"))\n",
    "s3=int(input(\"Enter marks of the third subject: \"))\n",
    "s4=int(input(\"Enter marks of the fourth subject: \"))\n",
    "s5=int(input(\"Enter marks of the fifth subject: \"))\n",
    "per=(s1+s2+s3+s4+s5)/5\n",
    "if(per>=80):\n",
    "    print(\"Grade: A-1\")\n",
    "elif(per>=70 and per<80):\n",
    "    print(\"Grade: A\")\n",
    "elif(per>=60 and per<70):\n",
    "    print(\"Grade: B\")\n",
    "elif(per>=50 and per<60):\n",
    "    print(\"Grade: C\")\n",
    "elif(per>=40 and per<50):\n",
    "    print(\"Grade: D\")\n",
    "else:\n",
    "    print(\"Grade: F\")"
   ]
  },
  {
   "cell_type": "code",
   "execution_count": null,
   "metadata": {},
   "outputs": [],
   "source": []
  }
 ],
 "metadata": {
  "kernelspec": {
   "display_name": "Python 3",
   "language": "python",
   "name": "python3"
  },
  "language_info": {
   "codemirror_mode": {
    "name": "ipython",
    "version": 3
   },
   "file_extension": ".py",
   "mimetype": "text/x-python",
   "name": "python",
   "nbconvert_exporter": "python",
   "pygments_lexer": "ipython3",
   "version": "3.7.4"
  }
 },
 "nbformat": 4,
 "nbformat_minor": 2
}
